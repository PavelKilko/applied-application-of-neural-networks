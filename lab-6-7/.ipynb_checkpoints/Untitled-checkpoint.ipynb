{
 "cells": [
  {
   "cell_type": "code",
   "execution_count": 1,
   "id": "a14334ff-ed82-4d9d-893a-8c8437254ec8",
   "metadata": {},
   "outputs": [],
   "source": [
    "font_paths = [\n",
    "    \"./all-fonts/ARIAL.csv\",\n",
    "    \"./all-fonts/BOOK.csv\",\n",
    "    \"./all-fonts/CAMBRIA.csv\",\n",
    "    \"./all-fonts/ITALIC.csv\",\n",
    "    \"./all-fonts/LUCIDA.csv\",\n",
    "    \"./all-fonts/MONOTXT.csv\",\n",
    "    \"./all-fonts/OCRB.csv\",\n",
    "    \"./all-fonts/SEGOE.csv\",\n",
    "    \"./all-fonts/TIMES.csv\",\n",
    "]"
   ]
  },
  {
   "cell_type": "code",
   "execution_count": 2,
   "id": "45b585b1-fb49-4aef-b974-202c4ca63cba",
   "metadata": {},
   "outputs": [],
   "source": [
    "from sklearn.model_selection import train_test_split\n",
    "import pandas as pd\n",
    "\n",
    "def create_train_val_test_datasets(font_paths):\n",
    "    train_dataset = pd.DataFrame()\n",
    "    val_dataset = pd.DataFrame()\n",
    "    test_dataset = pd.DataFrame()\n",
    "\n",
    "    columns_to_drop = [\n",
    "        'fontVariant',\n",
    "        'm_label',\n",
    "        'strength',\n",
    "        'italic',\n",
    "        'orientation',\n",
    "        'm_top',\n",
    "        'm_left',\n",
    "        'originalH',\n",
    "        'originalW',\n",
    "        'h',\n",
    "        'w'\n",
    "    ]\n",
    "\n",
    "    for font_path in font_paths:\n",
    "        dataset = pd.read_csv(font_path)\n",
    "        dataset = dataset.drop(columns=columns_to_drop, errors='ignore')\n",
    "\n",
    "        train_temp, test_split = train_test_split(dataset, test_size=0.2)\n",
    "\n",
    "        train_split, val_split = train_test_split(train_temp, test_size=0.25)\n",
    "\n",
    "        train_dataset = pd.concat([train_dataset, train_split], ignore_index=True)\n",
    "        val_dataset = pd.concat([val_dataset, val_split], ignore_index=True)\n",
    "        test_dataset = pd.concat([test_dataset, test_split], ignore_index=True)\n",
    "\n",
    "    return train_dataset, val_dataset, test_dataset"
   ]
  },
  {
   "cell_type": "code",
   "execution_count": 4,
   "id": "9424216a-bc82-4b43-9b2e-98ba155609b5",
   "metadata": {},
   "outputs": [],
   "source": [
    "train, val, test = create_train_val_test_datasets(font_paths)"
   ]
  },
  {
   "cell_type": "code",
   "execution_count": 6,
   "id": "df23f2de-9cc6-4cd9-9ab2-7a85fca1abdd",
   "metadata": {},
   "outputs": [],
   "source": [
    "train.to_csv(\"../lab-9-10/custom-dataset/train.csv\", index=False)\n",
    "val.to_csv(\"../lab-9-10/custom-dataset/val.csv\", index=False)\n",
    "test.to_csv(\"../lab-9-10/custom-dataset/test.csv\", index=False)"
   ]
  },
  {
   "cell_type": "code",
   "execution_count": null,
   "id": "a6ec9307-4d67-406d-a2ea-00f8d7fc1b44",
   "metadata": {},
   "outputs": [],
   "source": []
  }
 ],
 "metadata": {
  "kernelspec": {
   "display_name": "Python 3 (ipykernel)",
   "language": "python",
   "name": "python3"
  },
  "language_info": {
   "codemirror_mode": {
    "name": "ipython",
    "version": 3
   },
   "file_extension": ".py",
   "mimetype": "text/x-python",
   "name": "python",
   "nbconvert_exporter": "python",
   "pygments_lexer": "ipython3",
   "version": "3.9.18"
  }
 },
 "nbformat": 4,
 "nbformat_minor": 5
}
